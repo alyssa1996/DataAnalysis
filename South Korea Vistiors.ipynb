{
 "cells": [
  {
   "cell_type": "markdown",
   "metadata": {},
   "source": [
    "### [Data Set: South Korea Visitors from Kaggle](https://www.kaggle.com/bappekim/south-korea-visitors)\n",
    "\n",
    "1. nation: country of departure<br>\n",
    "    nation은 출발한 국가이지, 방문객의 국적을 의미하지는 않는다. 하지만 이 분석에서는 이 nation을 방문객의 국적과 동일하다고 가정한다."
   ]
  },
  {
   "cell_type": "code",
   "execution_count": 1,
   "metadata": {},
   "outputs": [],
   "source": [
    "import pandas as pd\n",
    "\n",
    "age_data=pd.read_csv('Enter_korea_by_age.csv')\n",
    "gender_data=pd.read_csv('Enter_korea_by_gender.csv')\n",
    "purpose_data=pd.read_csv('Enter_korea_by_purpose.csv')"
   ]
  },
  {
   "cell_type": "code",
   "execution_count": 2,
   "metadata": {},
   "outputs": [
    {
     "data": {
      "text/html": [
       "<div>\n",
       "<style scoped>\n",
       "    .dataframe tbody tr th:only-of-type {\n",
       "        vertical-align: middle;\n",
       "    }\n",
       "\n",
       "    .dataframe tbody tr th {\n",
       "        vertical-align: top;\n",
       "    }\n",
       "\n",
       "    .dataframe thead th {\n",
       "        text-align: right;\n",
       "    }\n",
       "</style>\n",
       "<table border=\"1\" class=\"dataframe\">\n",
       "  <thead>\n",
       "    <tr style=\"text-align: right;\">\n",
       "      <th></th>\n",
       "      <th>date</th>\n",
       "      <th>nation</th>\n",
       "      <th>visitor</th>\n",
       "      <th>growth</th>\n",
       "      <th>share</th>\n",
       "      <th>age0-20</th>\n",
       "      <th>age21-30</th>\n",
       "      <th>age31-40</th>\n",
       "      <th>age41-50</th>\n",
       "      <th>age51-60</th>\n",
       "      <th>age61</th>\n",
       "    </tr>\n",
       "  </thead>\n",
       "  <tbody>\n",
       "    <tr>\n",
       "      <th>0</th>\n",
       "      <td>2019-1</td>\n",
       "      <td>China</td>\n",
       "      <td>392814</td>\n",
       "      <td>28.737870</td>\n",
       "      <td>35.555117</td>\n",
       "      <td>36520</td>\n",
       "      <td>108591</td>\n",
       "      <td>103657</td>\n",
       "      <td>48574</td>\n",
       "      <td>40893</td>\n",
       "      <td>40998</td>\n",
       "    </tr>\n",
       "    <tr>\n",
       "      <th>1</th>\n",
       "      <td>2019-1</td>\n",
       "      <td>Japan</td>\n",
       "      <td>206526</td>\n",
       "      <td>23.606830</td>\n",
       "      <td>18.693468</td>\n",
       "      <td>18015</td>\n",
       "      <td>57921</td>\n",
       "      <td>34165</td>\n",
       "      <td>39811</td>\n",
       "      <td>33857</td>\n",
       "      <td>20330</td>\n",
       "    </tr>\n",
       "    <tr>\n",
       "      <th>2</th>\n",
       "      <td>2019-1</td>\n",
       "      <td>Taiwan</td>\n",
       "      <td>87954</td>\n",
       "      <td>16.003693</td>\n",
       "      <td>7.961057</td>\n",
       "      <td>18888</td>\n",
       "      <td>17927</td>\n",
       "      <td>18595</td>\n",
       "      <td>18862</td>\n",
       "      <td>8169</td>\n",
       "      <td>4566</td>\n",
       "    </tr>\n",
       "    <tr>\n",
       "      <th>3</th>\n",
       "      <td>2019-1</td>\n",
       "      <td>Hong Kong</td>\n",
       "      <td>35896</td>\n",
       "      <td>3.533212</td>\n",
       "      <td>3.249086</td>\n",
       "      <td>3890</td>\n",
       "      <td>11384</td>\n",
       "      <td>7400</td>\n",
       "      <td>5461</td>\n",
       "      <td>4629</td>\n",
       "      <td>2137</td>\n",
       "    </tr>\n",
       "    <tr>\n",
       "      <th>4</th>\n",
       "      <td>2019-1</td>\n",
       "      <td>Macao</td>\n",
       "      <td>2570</td>\n",
       "      <td>-12.376406</td>\n",
       "      <td>0.232621</td>\n",
       "      <td>223</td>\n",
       "      <td>1013</td>\n",
       "      <td>762</td>\n",
       "      <td>264</td>\n",
       "      <td>181</td>\n",
       "      <td>92</td>\n",
       "    </tr>\n",
       "  </tbody>\n",
       "</table>\n",
       "</div>"
      ],
      "text/plain": [
       "     date     nation  visitor     growth      share  age0-20  age21-30  \\\n",
       "0  2019-1      China   392814  28.737870  35.555117    36520    108591   \n",
       "1  2019-1      Japan   206526  23.606830  18.693468    18015     57921   \n",
       "2  2019-1     Taiwan    87954  16.003693   7.961057    18888     17927   \n",
       "3  2019-1  Hong Kong    35896   3.533212   3.249086     3890     11384   \n",
       "4  2019-1      Macao     2570 -12.376406   0.232621      223      1013   \n",
       "\n",
       "   age31-40  age41-50  age51-60  age61  \n",
       "0    103657     48574     40893  40998  \n",
       "1     34165     39811     33857  20330  \n",
       "2     18595     18862      8169   4566  \n",
       "3      7400      5461      4629   2137  \n",
       "4       762       264       181     92  "
      ]
     },
     "execution_count": 2,
     "metadata": {},
     "output_type": "execute_result"
    }
   ],
   "source": [
    "age_data.head()"
   ]
  },
  {
   "cell_type": "code",
   "execution_count": 3,
   "metadata": {},
   "outputs": [
    {
     "name": "stdout",
     "output_type": "stream",
     "text": [
      "한국을 방문한 외국인들의 국가 갯수: 60\n"
     ]
    }
   ],
   "source": [
    "# date 목록 확인 결과, 2019년 1월부터 2020년 4월까지의 방문기록을 가지고 있음\n",
    "# set(age_data['date'])\n",
    "\n",
    "# 한국을 방문한 외국인들의 국가 집합 확인 : 총 60개 국가의 외국인들이 한국을 방문한 것을 확인함\n",
    "nation=set(age_data['nation'])\n",
    "print(\"한국을 방문한 외국인들의 국가 갯수: %d\"%len(nation))"
   ]
  },
  {
   "cell_type": "markdown",
   "metadata": {},
   "source": [
    "**2019년 1월부터 2020년 4월까지 나라별 방문객 총인원 비율 그래프 그리기**"
   ]
  },
  {
   "cell_type": "code",
   "execution_count": 23,
   "metadata": {
    "scrolled": true
   },
   "outputs": [
    {
     "data": {
      "text/html": [
       "<div>\n",
       "<style scoped>\n",
       "    .dataframe tbody tr th:only-of-type {\n",
       "        vertical-align: middle;\n",
       "    }\n",
       "\n",
       "    .dataframe tbody tr th {\n",
       "        vertical-align: top;\n",
       "    }\n",
       "\n",
       "    .dataframe thead th {\n",
       "        text-align: right;\n",
       "    }\n",
       "</style>\n",
       "<table border=\"1\" class=\"dataframe\">\n",
       "  <thead>\n",
       "    <tr style=\"text-align: right;\">\n",
       "      <th></th>\n",
       "      <th>country</th>\n",
       "      <th>sum of visitor</th>\n",
       "    </tr>\n",
       "  </thead>\n",
       "  <tbody>\n",
       "    <tr>\n",
       "      <th>0</th>\n",
       "      <td>China</td>\n",
       "      <td>397759080</td>\n",
       "    </tr>\n",
       "    <tr>\n",
       "      <th>1</th>\n",
       "      <td>Japan</td>\n",
       "      <td>221734860</td>\n",
       "    </tr>\n",
       "    <tr>\n",
       "      <th>2</th>\n",
       "      <td>Taiwan</td>\n",
       "      <td>85477740</td>\n",
       "    </tr>\n",
       "    <tr>\n",
       "      <th>3</th>\n",
       "      <td>USA</td>\n",
       "      <td>70243140</td>\n",
       "    </tr>\n",
       "    <tr>\n",
       "      <th>4</th>\n",
       "      <td>Hong Kong</td>\n",
       "      <td>46989540</td>\n",
       "    </tr>\n",
       "  </tbody>\n",
       "</table>\n",
       "</div>"
      ],
      "text/plain": [
       "     country  sum of visitor\n",
       "0      China       397759080\n",
       "1      Japan       221734860\n",
       "2     Taiwan        85477740\n",
       "3        USA        70243140\n",
       "4  Hong Kong        46989540"
      ]
     },
     "execution_count": 23,
     "metadata": {},
     "output_type": "execute_result"
    }
   ],
   "source": [
    "# 2019년 1월부터 2020년 4월까지 나라별 방문객 총 인원 합산\n",
    "nation_per_visitor={}\n",
    "for i in list(nation):\n",
    "    for j in range(len(age_data['nation'])):\n",
    "        if age_data['nation'][j] in nation_per_visitor:\n",
    "            nation_per_visitor[age_data['nation'][j]]+=age_data['visitor'][j]\n",
    "        else:\n",
    "            nation_per_visitor[age_data['nation'][j]]=age_data['visitor'][j]\n",
    "\n",
    "result=pd.DataFrame(list(nation_per_visitor.items()),columns=['country','sum of visitor'])\n",
    "\n",
    "# 나라별 방문객이 많은 순서대로 테이블 재정렬\n",
    "result.sort_values(by='sum of visitor',ascending=False,inplace=True)\n",
    "result.reset_index(drop=True,inplace=True)\n",
    "result.head()"
   ]
  },
  {
   "cell_type": "code",
   "execution_count": 40,
   "metadata": {},
   "outputs": [
    {
     "data": {
      "image/png": "[encoded data removed]",
      "text/plain": [
       "<Figure size 432x288 with 1 Axes>"
      ]
     },
     "metadata": {},
     "output_type": "display_data"
    }
   ],
   "source": [
    "# 상위 5개 및 그외 외국에서 방문객 총 인원 파이그래프 그리기\n",
    "visitor = list(result['sum of visitor'][:5])\n",
    "visitor.append(sum(result['sum of visitor'][5:]))\n",
    "nationality = list(result['country'][:5])\n",
    "nationality.append('55 other countries')\n",
    "plt.pie(visitor, labels=nationality, autopct='%.1f%%')\n",
    "plt.show()"
   ]
  },
  {
   "cell_type": "markdown",
   "metadata": {},
   "source": [
    "**2019년 1월부터 2020년 4월까지 월별 외국인 방문자 수 그래프 그리기**"
   ]
  },
  {
   "cell_type": "code",
   "execution_count": 24,
   "metadata": {},
   "outputs": [
    {
     "name": "stdout",
     "output_type": "stream",
     "text": [
      "월별 방문자 수를 알고 싶은 외국명을 입력하세요.Hong Kong\n"
     ]
    }
   ],
   "source": [
    "# input으로 국가명 입력 받아서 사전 형태로 월별 방문자수 저장\n",
    "country=input('월별 방문자 수를 알고 싶은 외국명을 입력하세요.').lower()\n",
    "visitor_per_month={}\n",
    "for idx,value in enumerate(age_data['nation']):\n",
    "    if value.lower() == country:\n",
    "        month = age_data['date'][idx]\n",
    "        visitors = age_data['visitor'][idx]\n",
    "        visitor_per_month[month] = visitors\n",
    "\n",
    "# 날짜를 x축으로, 방문자수를 y축으로 설정하기 위해 사전의 key값과 value값을 나누어 리스트로 저장\n",
    "month_data = list(visitor_per_month.keys())\n",
    "visitor_data = list(visitor_per_month.values())"
   ]
  },
  {
   "cell_type": "code",
   "execution_count": 25,
   "metadata": {},
   "outputs": [
    {
     "data": {
      "image/png": "[encoded data removed]",
      "text/plain": [
       "<Figure size 1080x360 with 1 Axes>"
      ]
     },
     "metadata": {
      "needs_background": "light"
     },
     "output_type": "display_data"
    }
   ],
   "source": [
    "# 꺾은선 그래프 그리기\n",
    "from matplotlib import pyplot as plt\n",
    "plt.figure(figsize=(15, 5))\n",
    "plt.plot(month_data,visitor_data, marker='o')\n",
    "plt.title(\"Visitors from \"+country.title()+' to South Korea per month')\n",
    "plt.xlabel('Month')\n",
    "plt.ylabel(\"Visitors per month\")\n",
    "plt.show()"
   ]
  },
  {
   "cell_type": "code",
   "execution_count": null,
   "metadata": {},
   "outputs": [],
   "source": []
  },
  {
   "cell_type": "code",
   "execution_count": null,
   "metadata": {},
   "outputs": [],
   "source": []
  }
 ],
 "metadata": {
  "kernelspec": {
   "display_name": "Python 3",
   "language": "python",
   "name": "python3"
  },
  "language_info": {
   "codemirror_mode": {
    "name": "ipython",
    "version": 3
   },
   "file_extension": ".py",
   "mimetype": "text/x-python",
   "name": "python",
   "nbconvert_exporter": "python",
   "pygments_lexer": "ipython3",
   "version": "3.7.3"
  }
 },
 "nbformat": 4,
 "nbformat_minor": 2
}
